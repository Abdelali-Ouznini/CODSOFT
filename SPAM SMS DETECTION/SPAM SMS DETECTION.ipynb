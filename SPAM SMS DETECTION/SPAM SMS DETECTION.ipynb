{
 "cells": [
  {
   "cell_type": "markdown",
   "id": "50fb5328",
   "metadata": {},
   "source": [
    "# Spam Detection"
   ]
  },
  {
   "cell_type": "markdown",
   "id": "8a2656e4",
   "metadata": {},
   "source": [
    "## About Dataset\n",
    "##### Overview\n",
    "The SMS Spam Collection is a dataset for SMS Spam research, featuring 5,574 English SMS messages tagged as \"ham\" (legitimate) or \"spam.\" Each entry consists of two columns: (label - ham/spam) and (raw text). The dataset includes messages from various sources, such as the Grumbletext Web site, NUS SMS Corpus, Caroline Tag's PhD Thesis, and SMS Spam Corpus."
   ]
  },
  {
   "cell_type": "markdown",
   "id": "16ff788c",
   "metadata": {},
   "source": [
    "### Importing Packages"
   ]
  },
  {
   "cell_type": "code",
   "execution_count": 95,
   "id": "b87d203f",
   "metadata": {},
   "outputs": [],
   "source": [
    "import pandas as pd\n",
    "import numpy as np\n",
    "import matplotlib.pyplot as plt\n",
    "from sklearn.feature_extraction.text import TfidfVectorizer\n",
    "from sklearn.metrics import accuracy_score\n",
    "import joblib\n",
    "from sklearn.preprocessing import LabelEncoder\n",
    "from sklearn.model_selection import train_test_split\n",
    "from sklearn.pipeline import Pipeline\n",
    "from sklearn.metrics import roc_curve, auc\n",
    "from sklearn.linear_model import LogisticRegression\n",
    "from sklearn.naive_bayes import MultinomialNB\n",
    "from sklearn.svm import SVC\n",
    "from sklearn.model_selection import cross_val_predict"
   ]
  },
  {
   "cell_type": "code",
   "execution_count": 96,
   "id": "301bd7f3",
   "metadata": {},
   "outputs": [
    {
     "data": {
      "text/html": [
       "<div>\n",
       "<style scoped>\n",
       "    .dataframe tbody tr th:only-of-type {\n",
       "        vertical-align: middle;\n",
       "    }\n",
       "\n",
       "    .dataframe tbody tr th {\n",
       "        vertical-align: top;\n",
       "    }\n",
       "\n",
       "    .dataframe thead th {\n",
       "        text-align: right;\n",
       "    }\n",
       "</style>\n",
       "<table border=\"1\" class=\"dataframe\">\n",
       "  <thead>\n",
       "    <tr style=\"text-align: right;\">\n",
       "      <th></th>\n",
       "      <th>label</th>\n",
       "      <th>text</th>\n",
       "    </tr>\n",
       "  </thead>\n",
       "  <tbody>\n",
       "    <tr>\n",
       "      <th>0</th>\n",
       "      <td>ham</td>\n",
       "      <td>Go until jurong point, crazy.. Available only ...</td>\n",
       "    </tr>\n",
       "    <tr>\n",
       "      <th>1</th>\n",
       "      <td>ham</td>\n",
       "      <td>Ok lar... Joking wif u oni...</td>\n",
       "    </tr>\n",
       "    <tr>\n",
       "      <th>2</th>\n",
       "      <td>spam</td>\n",
       "      <td>Free entry in 2 a wkly comp to win FA Cup fina...</td>\n",
       "    </tr>\n",
       "    <tr>\n",
       "      <th>3</th>\n",
       "      <td>ham</td>\n",
       "      <td>U dun say so early hor... U c already then say...</td>\n",
       "    </tr>\n",
       "    <tr>\n",
       "      <th>4</th>\n",
       "      <td>ham</td>\n",
       "      <td>Nah I don't think he goes to usf, he lives aro...</td>\n",
       "    </tr>\n",
       "  </tbody>\n",
       "</table>\n",
       "</div>"
      ],
      "text/plain": [
       "  label                                               text\n",
       "0   ham  Go until jurong point, crazy.. Available only ...\n",
       "1   ham                      Ok lar... Joking wif u oni...\n",
       "2  spam  Free entry in 2 a wkly comp to win FA Cup fina...\n",
       "3   ham  U dun say so early hor... U c already then say...\n",
       "4   ham  Nah I don't think he goes to usf, he lives aro..."
      ]
     },
     "execution_count": 96,
     "metadata": {},
     "output_type": "execute_result"
    }
   ],
   "source": [
    "spam_df = pd.read_csv(\"spam.csv\", encoding='latin-1', usecols=['v1', 'v2'])\n",
    "spam_df.columns = [\"label\", \"text\"]\n",
    "spam_df.head(5)"
   ]
  },
  {
   "cell_type": "code",
   "execution_count": 97,
   "id": "1c893b3c",
   "metadata": {},
   "outputs": [
    {
     "data": {
      "text/plain": [
       "(5572, 2)"
      ]
     },
     "execution_count": 97,
     "metadata": {},
     "output_type": "execute_result"
    }
   ],
   "source": [
    "spam_df.shape"
   ]
  },
  {
   "cell_type": "code",
   "execution_count": 98,
   "id": "b01d114e",
   "metadata": {},
   "outputs": [],
   "source": [
    "spam_df.drop_duplicates(inplace=True)"
   ]
  },
  {
   "cell_type": "code",
   "execution_count": 99,
   "id": "820dd99a",
   "metadata": {},
   "outputs": [
    {
     "name": "stdout",
     "output_type": "stream",
     "text": [
      "<class 'pandas.core.frame.DataFrame'>\n",
      "Int64Index: 5169 entries, 0 to 5571\n",
      "Data columns (total 2 columns):\n",
      " #   Column  Non-Null Count  Dtype \n",
      "---  ------  --------------  ----- \n",
      " 0   label   5169 non-null   object\n",
      " 1   text    5169 non-null   object\n",
      "dtypes: object(2)\n",
      "memory usage: 121.1+ KB\n"
     ]
    }
   ],
   "source": [
    "spam_df.info()"
   ]
  },
  {
   "cell_type": "code",
   "execution_count": 100,
   "id": "cfe45758",
   "metadata": {},
   "outputs": [],
   "source": [
    "le_label = LabelEncoder()\n",
    "spam_df['label'] = le_label.fit_transform(spam_df['label'])"
   ]
  },
  {
   "cell_type": "code",
   "execution_count": 101,
   "id": "6b84747e",
   "metadata": {},
   "outputs": [
    {
     "data": {
      "text/html": [
       "<div>\n",
       "<style scoped>\n",
       "    .dataframe tbody tr th:only-of-type {\n",
       "        vertical-align: middle;\n",
       "    }\n",
       "\n",
       "    .dataframe tbody tr th {\n",
       "        vertical-align: top;\n",
       "    }\n",
       "\n",
       "    .dataframe thead th {\n",
       "        text-align: right;\n",
       "    }\n",
       "</style>\n",
       "<table border=\"1\" class=\"dataframe\">\n",
       "  <thead>\n",
       "    <tr style=\"text-align: right;\">\n",
       "      <th></th>\n",
       "      <th>label</th>\n",
       "      <th>text</th>\n",
       "    </tr>\n",
       "  </thead>\n",
       "  <tbody>\n",
       "    <tr>\n",
       "      <th>0</th>\n",
       "      <td>0</td>\n",
       "      <td>Go until jurong point, crazy.. Available only ...</td>\n",
       "    </tr>\n",
       "    <tr>\n",
       "      <th>1</th>\n",
       "      <td>0</td>\n",
       "      <td>Ok lar... Joking wif u oni...</td>\n",
       "    </tr>\n",
       "    <tr>\n",
       "      <th>2</th>\n",
       "      <td>1</td>\n",
       "      <td>Free entry in 2 a wkly comp to win FA Cup fina...</td>\n",
       "    </tr>\n",
       "    <tr>\n",
       "      <th>3</th>\n",
       "      <td>0</td>\n",
       "      <td>U dun say so early hor... U c already then say...</td>\n",
       "    </tr>\n",
       "    <tr>\n",
       "      <th>4</th>\n",
       "      <td>0</td>\n",
       "      <td>Nah I don't think he goes to usf, he lives aro...</td>\n",
       "    </tr>\n",
       "  </tbody>\n",
       "</table>\n",
       "</div>"
      ],
      "text/plain": [
       "   label                                               text\n",
       "0      0  Go until jurong point, crazy.. Available only ...\n",
       "1      0                      Ok lar... Joking wif u oni...\n",
       "2      1  Free entry in 2 a wkly comp to win FA Cup fina...\n",
       "3      0  U dun say so early hor... U c already then say...\n",
       "4      0  Nah I don't think he goes to usf, he lives aro..."
      ]
     },
     "execution_count": 101,
     "metadata": {},
     "output_type": "execute_result"
    }
   ],
   "source": [
    "spam_df.head(5)"
   ]
  },
  {
   "cell_type": "code",
   "execution_count": 102,
   "id": "c35ea798",
   "metadata": {},
   "outputs": [],
   "source": [
    "X = spam_df[\"text\"]\n",
    "y = spam_df[\"label\"]\n",
    "X_train, X_test, y_train, y_test = train_test_split(X, y, test_size = 0.3, random_state = 42)"
   ]
  },
  {
   "cell_type": "code",
   "execution_count": 103,
   "id": "a3aa26f8",
   "metadata": {},
   "outputs": [],
   "source": [
    "feature_extraction = TfidfVectorizer(min_df = 1, stop_words = 'english', lowercase=True)\n",
    "X_train_features = feature_extraction.fit_transform(X_train)\n",
    "X_test_features = feature_extraction.transform(X_test)"
   ]
  },
  {
   "cell_type": "code",
   "execution_count": 104,
   "id": "a289fb5b",
   "metadata": {},
   "outputs": [
    {
     "name": "stdout",
     "output_type": "stream",
     "text": [
      "Accuracy on the training data = 98.51%\n"
     ]
    }
   ],
   "source": [
    "logistic_model = LogisticRegression()\n",
    "logistic_model.fit(X_train_features, y_train)\n",
    "y_proba = logistic_model.predict_proba(X_train_features)[:,1]\n",
    "y_prediction = np.where(y_proba > 0.15, 1, 0)\n",
    "accuracy = accuracy_score(y_train, y_prediction)\n",
    "print(f\"Accuracy on the training data = {accuracy*100:.2f}%\")"
   ]
  },
  {
   "cell_type": "code",
   "execution_count": 105,
   "id": "dde631fb",
   "metadata": {
    "scrolled": true
   },
   "outputs": [
    {
     "name": "stdout",
     "output_type": "stream",
     "text": [
      "Accuracy on the testing data = 97.16%\n"
     ]
    }
   ],
   "source": [
    "y_proba = logistic_model.predict_proba(X_test_features)[:,1]\n",
    "y_perdiction_test = np.where(y_proba > 0.15, 1, 0)\n",
    "accuracy = accuracy_score(y_test, y_perdiction_test)\n",
    "print(f\"Accuracy on the testing data = {accuracy*100:.2f}%\")"
   ]
  },
  {
   "cell_type": "markdown",
   "id": "a3a03226",
   "metadata": {},
   "source": [
    "## Building Models Pipeline"
   ]
  },
  {
   "cell_type": "code",
   "execution_count": 106,
   "id": "ccb7bd53",
   "metadata": {},
   "outputs": [],
   "source": [
    "models = {\n",
    "    'Logistic Regression': Pipeline([\n",
    "        ('tfidf', TfidfVectorizer(min_df=1, stop_words='english', lowercase=True)), \n",
    "        ('model', LogisticRegression())]),\n",
    "    \n",
    "    'Naive Bayes': Pipeline([\n",
    "        ('tfidf', TfidfVectorizer(min_df=1, stop_words='english', lowercase=True)), \n",
    "        ('model', MultinomialNB())]),\n",
    "    \n",
    "    'Support Vector Machine': Pipeline([\n",
    "        ('tfidf', TfidfVectorizer(min_df=1, stop_words='english', lowercase=True)), \n",
    "        ('model', SVC(probability=True))])\n",
    "}"
   ]
  },
  {
   "cell_type": "markdown",
   "id": "c2084396",
   "metadata": {},
   "source": [
    "## Evaluating the Models"
   ]
  },
  {
   "cell_type": "code",
   "execution_count": 107,
   "id": "0d061068",
   "metadata": {},
   "outputs": [
    {
     "data": {
      "image/png": "[encoded data removed]",
      "text/plain": [
       "<Figure size 640x480 with 1 Axes>"
      ]
     },
     "metadata": {},
     "output_type": "display_data"
    }
   ],
   "source": [
    "threshold = 0.15  # Custom threshold\n",
    "\n",
    "for model_name, model_pipeline in models.items():\n",
    "    \n",
    "    model_pipeline.fit(X_train, y_train)\n",
    "    y_pred_proba = model_pipeline.predict_proba(X_test)[:, 1]\n",
    "    y_prediction = np.where(y_pred_proba > threshold, 1, 0)\n",
    "\n",
    "    fpr, tpr, thresholds = roc_curve(y_test, y_pred_proba)\n",
    "    roc_auc = auc(fpr, tpr)\n",
    "    plt.plot(fpr, tpr, label='{} (AUC = {:.2f}%)'.format(model_name, roc_auc*100))\n",
    "\n",
    "plt.plot([0, 1], [0, 1], color='gray', linestyle='--')\n",
    "plt.xlabel('False Positive Rate')\n",
    "plt.ylabel('True Positive Rate')\n",
    "plt.title('Receiver Operating Characteristic (ROC) Curve')\n",
    "plt.legend()\n",
    "plt.show()\n"
   ]
  },
  {
   "cell_type": "markdown",
   "id": "caa6275c",
   "metadata": {},
   "source": [
    "##### The Support Vector Machine model demonstrates exceptional performance with an AUC of 99.24%, showcasing its remarkable accuracy in effectively classifying instances with a high degree of precision."
   ]
  },
  {
   "cell_type": "code",
   "execution_count": 108,
   "id": "e811cba5",
   "metadata": {},
   "outputs": [],
   "source": [
    "model = models[\"Support Vector Machine\"].fit(X, y)"
   ]
  },
  {
   "cell_type": "code",
   "execution_count": 109,
   "id": "ceb5676b",
   "metadata": {},
   "outputs": [
    {
     "data": {
      "text/plain": [
       "['spam_model.joblib']"
      ]
     },
     "execution_count": 109,
     "metadata": {},
     "output_type": "execute_result"
    }
   ],
   "source": [
    "# Save the model and vectorizer\n",
    "joblib.dump(model, 'spam_model.joblib')"
   ]
  },
  {
   "cell_type": "code",
   "execution_count": 110,
   "id": "25a60b1a",
   "metadata": {},
   "outputs": [],
   "source": [
    "# Load the model and vectorizer\n",
    "loaded_model = joblib.load('spam_model.joblib')"
   ]
  },
  {
   "cell_type": "code",
   "execution_count": 111,
   "id": "56fa59d6",
   "metadata": {},
   "outputs": [
    {
     "name": "stdout",
     "output_type": "stream",
     "text": [
      "Accuracy = 99.87%\n"
     ]
    }
   ],
   "source": [
    "y_proba = loaded_model.predict_proba(X_test)[:,1]\n",
    "y_perdiction = np.where(y_proba > 0.15, 1, 0)\n",
    "accuracy = accuracy_score(y_test, y_perdiction)\n",
    "print(f\"Accuracy = {accuracy*100:.2f}%\")"
   ]
  },
  {
   "cell_type": "code",
   "execution_count": 112,
   "id": "a5700410",
   "metadata": {},
   "outputs": [],
   "source": [
    "# Function to predict spam\n",
    "def predict_spam(email_text):\n",
    "    proba = loaded_model.predict_proba([email_text])[:,1]\n",
    "    prediction = np.where(proba > 0.15, 1, 0)\n",
    "    if prediction == 1:\n",
    "        result = \"spam\"\n",
    "    else:\n",
    "        result = 'ham'\n",
    "    return result\n"
   ]
  },
  {
   "cell_type": "markdown",
   "id": "097e2003",
   "metadata": {},
   "source": [
    "####  Test the model with a spam email"
   ]
  },
  {
   "cell_type": "code",
   "execution_count": 113,
   "id": "5cdd38a5",
   "metadata": {},
   "outputs": [
    {
     "name": "stdout",
     "output_type": "stream",
     "text": [
      "Predicted label: spam\n"
     ]
    }
   ],
   "source": [
    "test_email_spam = '''You have been selected for an exclusive offer to become wealthy in just days!\n",
    "Our groundbreaking program guarantees massive earnings with minimal effort. \n",
    "Join thousands of satisfied customers who have transformed their lives using our system.  \n",
    "Act now and gain access to our secret formula for success. \n",
    "Don't miss out on this once-in-a-lifetime opportunity! \n",
    "Click the link below to start earning big today!'''\n",
    "\n",
    "predicted_label = predict_spam(test_email_spam)\n",
    "print(f\"Predicted label: {predicted_label}\")"
   ]
  },
  {
   "cell_type": "markdown",
   "id": "19d4b2cc",
   "metadata": {},
   "source": [
    "####  Test the model with a normal email"
   ]
  },
  {
   "cell_type": "code",
   "execution_count": 114,
   "id": "dc74599f",
   "metadata": {},
   "outputs": [
    {
     "name": "stdout",
     "output_type": "stream",
     "text": [
      "Predicted label: ham\n"
     ]
    }
   ],
   "source": [
    "test_email_ham = '''Please come prepared with your updates and any points you'd like to discuss during\n",
    "the meeting. If you have any conflicts or agenda items to add, please let me know by Thursday.  \n",
    "Thank you, and I look forward to our productive discussion.'''\n",
    "\n",
    "predicted_label = predict_spam(test_email_ham)\n",
    "print(f\"Predicted label: {predicted_label}\")"
   ]
  }
 ],
 "metadata": {
  "kernelspec": {
   "display_name": "Python 3 (ipykernel)",
   "language": "python",
   "name": "python3"
  },
  "language_info": {
   "codemirror_mode": {
    "name": "ipython",
    "version": 3
   },
   "file_extension": ".py",
   "mimetype": "text/x-python",
   "name": "python",
   "nbconvert_exporter": "python",
   "pygments_lexer": "ipython3",
   "version": "3.11.4"
  }
 },
 "nbformat": 4,
 "nbformat_minor": 5
}
