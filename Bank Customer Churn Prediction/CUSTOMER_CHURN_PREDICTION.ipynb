{
 "cells": [
  {
   "cell_type": "markdown",
   "id": "4264f9d6",
   "metadata": {},
   "source": [
    "# Bank Customer Churn Prediction"
   ]
  },
  {
   "cell_type": "markdown",
   "id": "2a5a2704",
   "metadata": {},
   "source": [
    "## 1) Import Necessaries"
   ]
  },
  {
   "cell_type": "code",
   "execution_count": 219,
   "id": "85cdf62a",
   "metadata": {},
   "outputs": [],
   "source": [
    "import pandas as pd\n",
    "import numpy as np\n",
    "import matplotlib.pyplot as plt\n",
    "import seaborn as sns\n",
    "from sklearn.preprocessing import StandardScaler, PolynomialFeatures\n",
    "from sklearn.model_selection import train_test_split\n",
    "from sklearn.linear_model import LogisticRegression\n",
    "from sklearn.metrics import accuracy_score\n",
    "from scipy.stats import pointbiserialr\n",
    "from scipy.stats import chi2_contingency\n",
    "import joblib"
   ]
  },
  {
   "cell_type": "markdown",
   "id": "20ed4081",
   "metadata": {},
   "source": [
    "## 2) EDA"
   ]
  },
  {
   "cell_type": "code",
   "execution_count": 220,
   "id": "f2a2698c",
   "metadata": {},
   "outputs": [
    {
     "data": {
      "text/html": [
       "<div>\n",
       "<style scoped>\n",
       "    .dataframe tbody tr th:only-of-type {\n",
       "        vertical-align: middle;\n",
       "    }\n",
       "\n",
       "    .dataframe tbody tr th {\n",
       "        vertical-align: top;\n",
       "    }\n",
       "\n",
       "    .dataframe thead th {\n",
       "        text-align: right;\n",
       "    }\n",
       "</style>\n",
       "<table border=\"1\" class=\"dataframe\">\n",
       "  <thead>\n",
       "    <tr style=\"text-align: right;\">\n",
       "      <th></th>\n",
       "      <th>RowNumber</th>\n",
       "      <th>CustomerId</th>\n",
       "      <th>Surname</th>\n",
       "      <th>CreditScore</th>\n",
       "      <th>Geography</th>\n",
       "      <th>Gender</th>\n",
       "      <th>Age</th>\n",
       "      <th>Tenure</th>\n",
       "      <th>Balance</th>\n",
       "      <th>NumOfProducts</th>\n",
       "      <th>HasCrCard</th>\n",
       "      <th>IsActiveMember</th>\n",
       "      <th>EstimatedSalary</th>\n",
       "      <th>Exited</th>\n",
       "    </tr>\n",
       "  </thead>\n",
       "  <tbody>\n",
       "    <tr>\n",
       "      <th>0</th>\n",
       "      <td>1</td>\n",
       "      <td>15634602</td>\n",
       "      <td>Hargrave</td>\n",
       "      <td>619</td>\n",
       "      <td>France</td>\n",
       "      <td>Female</td>\n",
       "      <td>42</td>\n",
       "      <td>2</td>\n",
       "      <td>0.00</td>\n",
       "      <td>1</td>\n",
       "      <td>1</td>\n",
       "      <td>1</td>\n",
       "      <td>101348.88</td>\n",
       "      <td>1</td>\n",
       "    </tr>\n",
       "    <tr>\n",
       "      <th>1</th>\n",
       "      <td>2</td>\n",
       "      <td>15647311</td>\n",
       "      <td>Hill</td>\n",
       "      <td>608</td>\n",
       "      <td>Spain</td>\n",
       "      <td>Female</td>\n",
       "      <td>41</td>\n",
       "      <td>1</td>\n",
       "      <td>83807.86</td>\n",
       "      <td>1</td>\n",
       "      <td>0</td>\n",
       "      <td>1</td>\n",
       "      <td>112542.58</td>\n",
       "      <td>0</td>\n",
       "    </tr>\n",
       "    <tr>\n",
       "      <th>2</th>\n",
       "      <td>3</td>\n",
       "      <td>15619304</td>\n",
       "      <td>Onio</td>\n",
       "      <td>502</td>\n",
       "      <td>France</td>\n",
       "      <td>Female</td>\n",
       "      <td>42</td>\n",
       "      <td>8</td>\n",
       "      <td>159660.80</td>\n",
       "      <td>3</td>\n",
       "      <td>1</td>\n",
       "      <td>0</td>\n",
       "      <td>113931.57</td>\n",
       "      <td>1</td>\n",
       "    </tr>\n",
       "    <tr>\n",
       "      <th>3</th>\n",
       "      <td>4</td>\n",
       "      <td>15701354</td>\n",
       "      <td>Boni</td>\n",
       "      <td>699</td>\n",
       "      <td>France</td>\n",
       "      <td>Female</td>\n",
       "      <td>39</td>\n",
       "      <td>1</td>\n",
       "      <td>0.00</td>\n",
       "      <td>2</td>\n",
       "      <td>0</td>\n",
       "      <td>0</td>\n",
       "      <td>93826.63</td>\n",
       "      <td>0</td>\n",
       "    </tr>\n",
       "    <tr>\n",
       "      <th>4</th>\n",
       "      <td>5</td>\n",
       "      <td>15737888</td>\n",
       "      <td>Mitchell</td>\n",
       "      <td>850</td>\n",
       "      <td>Spain</td>\n",
       "      <td>Female</td>\n",
       "      <td>43</td>\n",
       "      <td>2</td>\n",
       "      <td>125510.82</td>\n",
       "      <td>1</td>\n",
       "      <td>1</td>\n",
       "      <td>1</td>\n",
       "      <td>79084.10</td>\n",
       "      <td>0</td>\n",
       "    </tr>\n",
       "  </tbody>\n",
       "</table>\n",
       "</div>"
      ],
      "text/plain": [
       "   RowNumber  CustomerId   Surname  CreditScore Geography  Gender  Age  \\\n",
       "0          1    15634602  Hargrave          619    France  Female   42   \n",
       "1          2    15647311      Hill          608     Spain  Female   41   \n",
       "2          3    15619304      Onio          502    France  Female   42   \n",
       "3          4    15701354      Boni          699    France  Female   39   \n",
       "4          5    15737888  Mitchell          850     Spain  Female   43   \n",
       "\n",
       "   Tenure    Balance  NumOfProducts  HasCrCard  IsActiveMember  \\\n",
       "0       2       0.00              1          1               1   \n",
       "1       1   83807.86              1          0               1   \n",
       "2       8  159660.80              3          1               0   \n",
       "3       1       0.00              2          0               0   \n",
       "4       2  125510.82              1          1               1   \n",
       "\n",
       "   EstimatedSalary  Exited  \n",
       "0        101348.88       1  \n",
       "1        112542.58       0  \n",
       "2        113931.57       1  \n",
       "3         93826.63       0  \n",
       "4         79084.10       0  "
      ]
     },
     "execution_count": 220,
     "metadata": {},
     "output_type": "execute_result"
    }
   ],
   "source": [
    "df = pd.read_csv(\"Churn_Modelling.csv\")\n",
    "df.head()"
   ]
  },
  {
   "cell_type": "code",
   "execution_count": 221,
   "id": "61b36c3b",
   "metadata": {},
   "outputs": [
    {
     "data": {
      "text/plain": [
       "(10000, 14)"
      ]
     },
     "execution_count": 221,
     "metadata": {},
     "output_type": "execute_result"
    }
   ],
   "source": [
    "df.shape"
   ]
  },
  {
   "cell_type": "code",
   "execution_count": 222,
   "id": "ffbea371",
   "metadata": {},
   "outputs": [
    {
     "name": "stdout",
     "output_type": "stream",
     "text": [
      "<class 'pandas.core.frame.DataFrame'>\n",
      "RangeIndex: 10000 entries, 0 to 9999\n",
      "Data columns (total 14 columns):\n",
      " #   Column           Non-Null Count  Dtype  \n",
      "---  ------           --------------  -----  \n",
      " 0   RowNumber        10000 non-null  int64  \n",
      " 1   CustomerId       10000 non-null  int64  \n",
      " 2   Surname          10000 non-null  object \n",
      " 3   CreditScore      10000 non-null  int64  \n",
      " 4   Geography        10000 non-null  object \n",
      " 5   Gender           10000 non-null  object \n",
      " 6   Age              10000 non-null  int64  \n",
      " 7   Tenure           10000 non-null  int64  \n",
      " 8   Balance          10000 non-null  float64\n",
      " 9   NumOfProducts    10000 non-null  int64  \n",
      " 10  HasCrCard        10000 non-null  int64  \n",
      " 11  IsActiveMember   10000 non-null  int64  \n",
      " 12  EstimatedSalary  10000 non-null  float64\n",
      " 13  Exited           10000 non-null  int64  \n",
      "dtypes: float64(2), int64(9), object(3)\n",
      "memory usage: 1.1+ MB\n"
     ]
    }
   ],
   "source": [
    "df.info()"
   ]
  },
  {
   "cell_type": "markdown",
   "id": "95ba31f1",
   "metadata": {},
   "source": [
    "## 3) Data Cleaning"
   ]
  },
  {
   "cell_type": "code",
   "execution_count": 223,
   "id": "e3ff829f",
   "metadata": {
    "scrolled": false
   },
   "outputs": [
    {
     "data": {
      "text/plain": [
       "RowNumber          0\n",
       "CustomerId         0\n",
       "Surname            0\n",
       "CreditScore        0\n",
       "Geography          0\n",
       "Gender             0\n",
       "Age                0\n",
       "Tenure             0\n",
       "Balance            0\n",
       "NumOfProducts      0\n",
       "HasCrCard          0\n",
       "IsActiveMember     0\n",
       "EstimatedSalary    0\n",
       "Exited             0\n",
       "dtype: int64"
      ]
     },
     "execution_count": 223,
     "metadata": {},
     "output_type": "execute_result"
    }
   ],
   "source": [
    "df.isnull().sum()"
   ]
  },
  {
   "cell_type": "code",
   "execution_count": 224,
   "id": "f8b7126d",
   "metadata": {},
   "outputs": [],
   "source": [
    "new_df = df.drop(columns = [\"Surname\", \"CustomerId\", \"RowNumber\"])"
   ]
  },
  {
   "cell_type": "code",
   "execution_count": 225,
   "id": "b33e21bc",
   "metadata": {},
   "outputs": [
    {
     "data": {
      "text/plain": [
       "(10000, 11)"
      ]
     },
     "execution_count": 225,
     "metadata": {},
     "output_type": "execute_result"
    }
   ],
   "source": [
    "new_df.shape"
   ]
  },
  {
   "cell_type": "code",
   "execution_count": 226,
   "id": "14205272",
   "metadata": {},
   "outputs": [
    {
     "name": "stdout",
     "output_type": "stream",
     "text": [
      "The number of unique values in each column in Bank Customer Churn dataset:\n",
      "\n"
     ]
    },
    {
     "data": {
      "text/plain": [
       "CreditScore         460\n",
       "Geography             3\n",
       "Gender                2\n",
       "Age                  70\n",
       "Tenure               11\n",
       "Balance            6382\n",
       "NumOfProducts         4\n",
       "HasCrCard             2\n",
       "IsActiveMember        2\n",
       "EstimatedSalary    9999\n",
       "Exited                2\n",
       "dtype: int64"
      ]
     },
     "execution_count": 226,
     "metadata": {},
     "output_type": "execute_result"
    }
   ],
   "source": [
    "print(f\"The number of unique values in each column in Bank Customer Churn dataset:\\n\")\n",
    "new_df.nunique()"
   ]
  },
  {
   "cell_type": "markdown",
   "id": "6e243e5e",
   "metadata": {},
   "source": [
    "## 4) Correlation Analysis"
   ]
  },
  {
   "cell_type": "code",
   "execution_count": 227,
   "id": "24fca082",
   "metadata": {},
   "outputs": [
    {
     "name": "stderr",
     "output_type": "stream",
     "text": [
      "C:\\Users\\Administrator\\AppData\\Local\\Temp\\ipykernel_7620\\3572352391.py:2: FutureWarning: The default value of numeric_only in DataFrame.corr is deprecated. In a future version, it will default to False. Select only valid columns or specify the value of numeric_only to silence this warning.\n",
      "  sns.heatmap(new_df.corr(), xticklabels=df.corr().columns, yticklabels=new_df.corr().columns, cmap='RdYlGn', center=0, annot=True)\n"
     ]
    },
    {
     "data": {
      "image/png": "[encoded data removed]",
      "text/plain": [
       "<Figure size 960x800 with 2 Axes>"
      ]
     },
     "metadata": {},
     "output_type": "display_data"
    }
   ],
   "source": [
    "plt.figure(figsize=(12,10), dpi= 80)\n",
    "sns.heatmap(new_df.corr(), xticklabels=df.corr().columns, yticklabels=new_df.corr().columns, cmap='RdYlGn', center=0, annot=True)\n",
    "\n",
    "plt.title('Correlogram of Bank Churn', fontsize=22)\n",
    "plt.xticks(fontsize=12)\n",
    "plt.yticks(fontsize=12)\n",
    "plt.show()"
   ]
  },
  {
   "cell_type": "code",
   "execution_count": 228,
   "id": "bc5daa37",
   "metadata": {},
   "outputs": [
    {
     "name": "stdout",
     "output_type": "stream",
     "text": [
      "Geography Chi-square statistic: 301.25533682434536, P-value: 0.0000\n",
      "Gender Chi-square statistic: 112.91857062096116, P-value: 0.0000\n",
      "NumOfProducts Chi-square statistic: 1503.6293615070408, P-value: 0.0000\n",
      "HasCrCard Chi-square statistic: 0.47133779904440803, P-value: 0.4924\n",
      "IsActiveMember Chi-square statistic: 242.98534164287963, P-value: 0.0000\n",
      "Exited Chi-square statistic: 9993.835961897581, P-value: 0.0000\n"
     ]
    }
   ],
   "source": [
    "for col in new_df.columns:\n",
    "    if (new_df[col].dtype == \"object\") | (new_df[col].nunique()<5):\n",
    "        contingency_table = pd.crosstab(new_df[col], new_df[\"Exited\"])\n",
    "        chi2, p, dof, expected = chi2_contingency(contingency_table)\n",
    "        print(f\"{col} Chi-square statistic: {chi2}, P-value: {'{:.4f}'.format(p)}\")"
   ]
  },
  {
   "cell_type": "code",
   "execution_count": 229,
   "id": "2f65912c",
   "metadata": {},
   "outputs": [
    {
     "name": "stdout",
     "output_type": "stream",
     "text": [
      "CreditScore:: Point-Biserial Correlation: -0.027093539754656896, P-value: 0.0067\n",
      "Age:: Point-Biserial Correlation: 0.28532303783505886, P-value: 0.0000\n",
      "Tenure:: Point-Biserial Correlation: -0.014000612253444372, P-value: 0.1615\n",
      "Balance:: Point-Biserial Correlation: 0.1185327687716301, P-value: 0.0000\n",
      "EstimatedSalary:: Point-Biserial Correlation: 0.012096861026844317, P-value: 0.2264\n"
     ]
    }
   ],
   "source": [
    "for col in new_df.columns:\n",
    "    if  (new_df[col].nunique()>10):\n",
    "        correlation, p_value = pointbiserialr(df['Exited'], df[col])\n",
    "        print(f\"{col}:: Point-Biserial Correlation: {correlation}, P-value: {'{:.4f}'.format(p_value)}\")\n"
   ]
  },
  {
   "cell_type": "code",
   "execution_count": 230,
   "id": "728eadd9",
   "metadata": {},
   "outputs": [],
   "source": [
    "dropColumns = [\"HasCrCard\", \"Tenure\"]\n",
    "new_df.drop(columns = dropColumns, inplace = True)"
   ]
  },
  {
   "cell_type": "code",
   "execution_count": 231,
   "id": "e80094c4",
   "metadata": {},
   "outputs": [],
   "source": [
    "new_df = pd.get_dummies(new_df, columns=['Geography', 'Gender'])"
   ]
  },
  {
   "cell_type": "markdown",
   "id": "9051f343",
   "metadata": {},
   "source": [
    "## 5) Split the data into train and test datasets"
   ]
  },
  {
   "cell_type": "code",
   "execution_count": 232,
   "id": "92466c1d",
   "metadata": {},
   "outputs": [],
   "source": [
    "x = new_df.drop(columns = \"Exited\")\n",
    "y = new_df[\"Exited\"]\n",
    "X_train, X_test, y_train, y_test = train_test_split(x, \n",
    "                                                    y,   \n",
    "                                                    test_size=0.3, \n",
    "                                                    random_state= 123)\n",
    "                                                   "
   ]
  },
  {
   "cell_type": "markdown",
   "id": "b7cfc2cc",
   "metadata": {},
   "source": [
    "## 6) Feature Scaling"
   ]
  },
  {
   "cell_type": "code",
   "execution_count": 233,
   "id": "8493b57e",
   "metadata": {},
   "outputs": [],
   "source": [
    "scaler = StandardScaler()\n",
    "X_train = scaler.fit_transform(X_train)\n",
    "X_test = scaler.transform(X_test)"
   ]
  },
  {
   "cell_type": "markdown",
   "id": "4db698ec",
   "metadata": {},
   "source": [
    "## 7) Data Modeling and Evaluation"
   ]
  },
  {
   "cell_type": "code",
   "execution_count": 234,
   "id": "75ae5dc3",
   "metadata": {},
   "outputs": [
    {
     "name": "stdout",
     "output_type": "stream",
     "text": [
      "The Accuarcy of Logistic Regression on the testing data: 87.47%\n"
     ]
    }
   ],
   "source": [
    "lr = LogisticRegression(max_iter = 1000)\n",
    "poly = PolynomialFeatures(degree = 3)\n",
    "X_train_p = poly.fit_transform(X_train)\n",
    "X_test_p = poly.transform(X_test)\n",
    "lr.fit(X_train_p, y_train)\n",
    "y_perd = lr.predict(X_test_p)\n",
    "accuracy = accuracy_score(y_test, y_perd)\n",
    "print(f\"The Accuarcy of Logistic Regression on the testing data: {accuracy*100:.2f}%\")"
   ]
  },
  {
   "cell_type": "code",
   "execution_count": 235,
   "id": "39d0c2c5",
   "metadata": {},
   "outputs": [
    {
     "name": "stdout",
     "output_type": "stream",
     "text": [
      "The Accuarcy of Logistic Regression on the training data: 86.84%\n"
     ]
    }
   ],
   "source": [
    "y_ = lr.predict(X_train_p)\n",
    "accuracy = accuracy_score(y_train, y_)\n",
    "print(f\"The Accuarcy of Logistic Regression on the training data: {accuracy*100:.2f}%\")"
   ]
  },
  {
   "cell_type": "code",
   "execution_count": 236,
   "id": "b872e0e4",
   "metadata": {
    "scrolled": true
   },
   "outputs": [
    {
     "data": {
      "text/plain": [
       "['trained_model.pkl']"
      ]
     },
     "execution_count": 236,
     "metadata": {},
     "output_type": "execute_result"
    }
   ],
   "source": [
    "scaler = StandardScaler()\n",
    "X = scaler.fit_transform(x)\n",
    "lr_model = LogisticRegression(max_iter = 1000)\n",
    "poly = PolynomialFeatures(degree = 3)\n",
    "X_p = poly.fit_transform(X)\n",
    "lr_model.fit(X_p, y)\n",
    "# Save the model to a file\n",
    "joblib.dump((scaler, poly, lr_model), 'trained_model.pkl')"
   ]
  },
  {
   "cell_type": "code",
   "execution_count": 237,
   "id": "8544e830",
   "metadata": {},
   "outputs": [
    {
     "name": "stdout",
     "output_type": "stream",
     "text": [
      "      CustomerId  Exited_Prediction\n",
      "6474    15626143                  0\n",
      "816     15734565                  0\n",
      "150     15650237                  0\n",
      "2464    15725818                  0\n",
      "928     15677135                  0\n",
      "5403    15733169                  0\n",
      "7738    15768746                  0\n",
      "7989    15605827                  0\n",
      "6798    15799925                  0\n",
      "9236    15635388                  1\n"
     ]
    }
   ],
   "source": [
    "sampled_data = df.sample(n=10)\n",
    "new_df = sampled_data.drop(columns = [\"Surname\", \"CustomerId\", \"RowNumber\",\"HasCrCard\", \"Tenure\"])\n",
    "X_new = new_df.drop(columns = \"Exited\")\n",
    "y = new_df[\"Exited\"]\n",
    "X_new = pd.get_dummies(X_new, columns=['Geography', 'Gender'])\n",
    "# Load the saved model\n",
    "scaler, poly, lr_model = joblib.load('trained_model.pkl')\n",
    "X_new_scal = scaler.transform(X_new)\n",
    "X_new_p = poly.transform(X_new_scal)\n",
    "predictions = lr_model.predict(X_new_p)\n",
    "accuracy = accuracy_score(y, predictions)\n",
    "# Create a DataFrame with CustomerId and predicted Exited values\n",
    "result_df = pd.DataFrame({'CustomerId': sampled_data['CustomerId'], 'Exited_Prediction': predictions})\n",
    "print(result_df)"
   ]
  },
  {
   "cell_type": "code",
   "execution_count": null,
   "id": "1d7a4eb2",
   "metadata": {},
   "outputs": [],
   "source": []
  }
 ],
 "metadata": {
  "kernelspec": {
   "display_name": "Python 3 (ipykernel)",
   "language": "python",
   "name": "python3"
  },
  "language_info": {
   "codemirror_mode": {
    "name": "ipython",
    "version": 3
   },
   "file_extension": ".py",
   "mimetype": "text/x-python",
   "name": "python",
   "nbconvert_exporter": "python",
   "pygments_lexer": "ipython3",
   "version": "3.11.4"
  }
 },
 "nbformat": 4,
 "nbformat_minor": 5
}
